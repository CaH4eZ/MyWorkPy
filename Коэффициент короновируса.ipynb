{
 "cells": [
  {
   "cell_type": "code",
   "execution_count": 5,
   "metadata": {},
   "outputs": [
    {
     "name": "stdout",
     "output_type": "stream",
     "text": [
      "Введите данные за ПРЕДпоследние 4 дня:\n",
      "5\n",
      "4\n",
      "3\n",
      "2\n",
      "Введите данные за последние 4 дня:\n",
      "6\n",
      "5\n",
      "4\n",
      "3\n",
      "Коэффициент распространения короновируса равен 1.2857142857142858\n"
     ]
    }
   ],
   "source": [
    "#Версия 1.0\n",
    "\n",
    "print('Введите данные за ПРЕДпоследние 4 дня:')\n",
    "dek1=[int(input('')),int(input('')),int(input('')),int(input(''))]\n",
    "\n",
    "print('Введите данные за последние 4 дня:')\n",
    "dek2=[int(input('')),int(input('')),int(input('')),int(input(''))]\n",
    "\n",
    "summ1=0\n",
    "summ2=0\n",
    "for d1 in dek1:\n",
    "    summ1+=d1\n",
    "for d2 in dek2:\n",
    "    summ2+=d2\n",
    "index=summ2/summ1\n",
    "print('Коэффициент распространения короновируса равен',index)"
   ]
  },
  {
   "cell_type": "code",
   "execution_count": 9,
   "metadata": {},
   "outputs": [
    {
     "name": "stdout",
     "output_type": "stream",
     "text": [
      "Введите данные за 18е число: 5\n",
      "Введите данные за 19е число: 4\n",
      "Введите данные за 20е число: 3\n",
      "Введите данные за 21е число: 2\n",
      "Введите данные за 22е число: 6\n",
      "Введите данные за 23е число: ;\n",
      "Вы ввели не то колчество!\n",
      "Введите данные за 23е число: 5\n",
      "Введите данные за 24е число: 4\n",
      "Введите данные за 25е число: 3\n",
      "Коэффициент распространения короновируса равен 1.29\n"
     ]
    }
   ],
   "source": [
    "#Версия 2.0\n",
    "\n",
    "from datetime import datetime,timedelta\n",
    "thistime = datetime.now()\n",
    "\n",
    "d1=(thistime+timedelta(days=-8)).day\n",
    "d2=(thistime+timedelta(days=-4)).day\n",
    "\n",
    "dek1=[]\n",
    "while len(dek1)<4:\n",
    "    try:\n",
    "        while d1<d2:\n",
    "            a=int(input('Введите данные за {}е число: '.format(d1)))\n",
    "            d1+=1\n",
    "            dek1.append(a)\n",
    "            \n",
    "    except ValueError:\n",
    "        print('Вы ввели не то колчество!')\n",
    "        while d1<d2:\n",
    "            a=int(input('Введите данные за {}е число: '.format(d1)))\n",
    "            d1+=1\n",
    "            dek1.append(a)\n",
    "                \n",
    "#print(dek1,len(dek1))\n",
    "\n",
    "dek2=[]\n",
    "while len(dek2)<4:\n",
    "    try:\n",
    "        while d2<thistime.day:\n",
    "            a=int(input('Введите данные за {}е число: '.format(d2)))\n",
    "            d2+=1\n",
    "            dek2.append(a)\n",
    "            \n",
    "    except ValueError:\n",
    "        print('Вы ввели не то колчество!')\n",
    "        while d2<thistime.day:\n",
    "            a=int(input('Введите данные за {}е число: '.format(d2)))\n",
    "            d2+=1\n",
    "            dek2.append(a)\n",
    "                \n",
    "#print(dek2,len(dek2))\n",
    "\n",
    "summ1=0\n",
    "summ2=0\n",
    "for d1 in dek1:\n",
    "    summ1+=d1\n",
    "for d2 in dek2:\n",
    "    summ2+=d2\n",
    "index=round(summ2/summ1,2)\n",
    "print('Коэффициент распространения короновируса равен',index)"
   ]
  },
  {
   "cell_type": "markdown",
   "metadata": {},
   "source": [
    "## Пробуем разные вариации с датами"
   ]
  },
  {
   "cell_type": "code",
   "execution_count": 1,
   "metadata": {},
   "outputs": [
    {
     "name": "stdout",
     "output_type": "stream",
     "text": [
      "15\n"
     ]
    }
   ],
   "source": [
    "import time\n",
    "time0 = time.strftime(\"%Y%m%d_%H%M%S\") #Запрашиваем текущую дату\n",
    "time1 = time.strptime(time0, \"%Y%m%d_%H%M%S\")\n",
    "print(time1.tm_hour)"
   ]
  },
  {
   "cell_type": "code",
   "execution_count": 1,
   "metadata": {},
   "outputs": [
    {
     "name": "stdout",
     "output_type": "stream",
     "text": [
      "26\n",
      "20201026_155112\n"
     ]
    }
   ],
   "source": [
    "from datetime import datetime,timedelta\n",
    "thistime = datetime.now()\n",
    "s=datetime.strftime(t,\"%Y%m%d_%H%M%S\")\n",
    "\n",
    "print(t.day)\n",
    "print(s)"
   ]
  },
  {
   "cell_type": "code",
   "execution_count": 2,
   "metadata": {},
   "outputs": [
    {
     "data": {
      "text/plain": [
       "18"
      ]
     },
     "execution_count": 2,
     "metadata": {},
     "output_type": "execute_result"
    }
   ],
   "source": [
    "#t+=timedelta(days=-1)\n",
    "d1=(t+timedelta(days=-8)).day\n",
    "d2=(t+timedelta(days=-4)).day\n",
    "n1"
   ]
  }
 ],
 "metadata": {
  "kernelspec": {
   "display_name": "Python 3",
   "language": "python",
   "name": "python3"
  },
  "language_info": {
   "codemirror_mode": {
    "name": "ipython",
    "version": 3
   },
   "file_extension": ".py",
   "mimetype": "text/x-python",
   "name": "python",
   "nbconvert_exporter": "python",
   "pygments_lexer": "ipython3",
   "version": "3.7.6"
  }
 },
 "nbformat": 4,
 "nbformat_minor": 4
}
